{
    "cells": [{
            "cell_type": "markdown",
            "source": ["### Check FCA Version\n", "\n", "This notebook checks from Fabric-Toolbox repository the latest version of FCA.\n", "\n", "The FCA_Core_Report will show you, if your current installed FCA version should be updated."],
            "metadata": {
                "nteract": {
                    "transient": {
                        "deleting": false
                    }
                },
                "microsoft": {
                    "language": "python",
                    "language_group": "synapse_pyspark"
                }
            },
            "id": "b0fdda9f-2e67-4175-af3e-cd9fe61f7d91"
        }, {
            "cell_type": "code",
            "source": ["# Parameters\n", "display_data = False"],
            "outputs": [],
            "execution_count": 1,
            "metadata": {
                "microsoft": {
                    "language": "python",
                    "language_group": "synapse_pyspark"
                },
                "cellStatus": ""
            },
            "id": "75e2bbeb-edf0-42a3-b4e5-6c389d749ccd"
        }, {
            "cell_type": "code",
            "source": ["from pyspark.sql.functions import lit\n", "import requests\n", "import json\n", "\n", "# Step 1: Fetch the JSON from the public URL\n", "url = \"https://raw.githubusercontent.com/pulsweb/FCA/refs/heads/main/data/current_fca_version.json\"\n", "response = requests.get(url)\n", "data = response.json()\n", "\n", "# Step 2: Convert the JSON to a Spark DataFrame\n", "df = spark.createDataFrame([data])\n", "\n", "# Optional: Add a timestamp column for tracking\n", "from pyspark.sql.functions import current_timestamp\n", "df = df.withColumn(\"last_check_timestamp\", current_timestamp())"],
            "outputs": [],
            "execution_count": 2,
            "metadata": {
                "microsoft": {
                    "language": "python",
                    "language_group": "synapse_pyspark"
                },
                "cellStatus": ""
            },
            "id": "65b83661-4bb7-432f-9692-e5b9b55587ae"
        }, {
            "cell_type": "code",
            "source": ["if display_data:\n", "    display(df)"],
            "outputs": [],
            "execution_count": 3,
            "metadata": {
                "microsoft": {
                    "language": "python",
                    "language_group": "synapse_pyspark"
                },
                "cellStatus": "",
                "collapsed": false
            },
            "id": "33e6eac2-7e97-4493-b2f4-a88336279054"
        }, {
            "cell_type": "code",
            "source": ["# Step 3: Write the DataFrame to a Delta table in the Lakehouse\n", "df.write.format(\"delta\").mode(\"overwrite\").saveAsTable(\"audit_latest_available_fca_version\")"],
            "outputs": [],
            "execution_count": 4,
            "metadata": {
                "microsoft": {
                    "language": "python",
                    "language_group": "synapse_pyspark"
                },
                "cellStatus": ""
            },
            "id": "03b1108d-989b-478f-ba21-e519c5d4a1ff"
        }
    ],
    "metadata": {
        "kernel_info": {
            "name": "synapse_pyspark"
        },
        "kernelspec": {
            "name": "synapse_pyspark",
            "display_name": "synapse_pyspark"
        },
        "language_info": {
            "name": "python"
        },
        "microsoft": {
            "language": "python",
            "language_group": "synapse_pyspark",
            "ms_spell_check": {
                "ms_spell_check_language": "en"
            }
        },
        "nteract": {
            "version": "nteract-front-end@1.0.0"
        },
        "synapse_widget": {
            "version": "0.1",
            "state": {}
        },
        "spark_compute": {
            "compute_id": "/trident/default",
            "session_options": {
                "conf": {
                    "spark.synapse.nbs.session.timeout": "1200000"
                }
            }
        },
        "dependencies": {
            "lakehouse": {}
        }
    },
    "nbformat": 4,
    "nbformat_minor": 5
}